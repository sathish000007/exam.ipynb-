{
 "cells": [
  {
   "cell_type": "code",
   "execution_count": 8,
   "id": "0822445a-44c6-488a-ad0b-a016309657d1",
   "metadata": {},
   "outputs": [
    {
     "name": "stdout",
     "output_type": "stream",
     "text": [
      "False\n"
     ]
    }
   ],
   "source": [
    "# 1.answer\n",
    "\n",
    "def search_matrix(matrix, target):\n",
    "    if not matrix or not matrix[0]:\n",
    "        return False\n",
    "    \n",
    "    rows, cols = len(matrix), len(matrix[0])\n",
    "    row, col = 0, cols - 1\n",
    "    \n",
    "    while row < rows and col >= 0:\n",
    "        if matrix[row][col] == target:\n",
    "            return True\n",
    "        elif matrix[row][col] < target:\n",
    "            row += 1\n",
    "        else:\n",
    "            col -= 1\n",
    "    return False\n",
    "\n",
    "matrix = [\n",
    "    [10, 8, 7],\n",
    "    [6, 5, 4],\n",
    "    [3, 2, 1]\n",
    "]\n",
    "target = 5\n",
    "print(search_matrix(matrix, target)) "
   ]
  },
  {
   "cell_type": "code",
   "execution_count": 3,
   "id": "64e6309c-ee23-4c4b-81eb-6da08eb38380",
   "metadata": {},
   "outputs": [
    {
     "name": "stdout",
     "output_type": "stream",
     "text": [
      "True\n"
     ]
    }
   ],
   "source": [
    "matrix = [\n",
    "    [1, 3, 5, 7],\n",
    "    [10, 11, 16, 20],\n",
    "    [23, 30, 34, 60]\n",
    "]\n",
    "target = 3\n",
    "print(search_matrix(matrix, target))"
   ]
  },
  {
   "cell_type": "code",
   "execution_count": null,
   "id": "c2a96334-4cb1-428a-823f-db3604371eed",
   "metadata": {},
   "outputs": [],
   "source": [
    "# the output is true.indicating that the target value '3' is present in the matrix"
   ]
  },
  {
   "cell_type": "code",
   "execution_count": 4,
   "id": "1a3bfec0-a090-4877-afaf-f17f969141ca",
   "metadata": {},
   "outputs": [
    {
     "name": "stdout",
     "output_type": "stream",
     "text": [
      "5\n"
     ]
    }
   ],
   "source": [
    "#2.answer\n",
    "\n",
    "def highest_frequency_word_length(s):\n",
    "    words = s.split()\n",
    "    frequency = {}\n",
    "    \n",
    "    for word in words:\n",
    "        frequency[word] = frequency.get(word, 0) + 1\n",
    "    \n",
    "    max_frequency = max(frequency.values())\n",
    "    max_frequency_word = [word for word, freq in frequency.items() if freq == max_frequency]\n",
    "    \n",
    "    return len(max_frequency_word[0])\n",
    "\n",
    "string = \"write write write all the name numbers from from from 1 to 100\"\n",
    "print(highest_frequency_word_length(string)) "
   ]
  },
  {
   "cell_type": "code",
   "execution_count": null,
   "id": "3f663a53-c357-4a67-903f-82e57a1b01f7",
   "metadata": {},
   "outputs": [],
   "source": [
    "#we split the input string into words using the split() method. \n",
    "#we iterate over each word and count its frequency using a dictionary. we find the maximum frequency and retrieve the word with the frequency\n",
    "#finally we return the length of the first word with the highest frequency"
   ]
  },
  {
   "cell_type": "code",
   "execution_count": 5,
   "id": "58d93dc4-ebb2-4e3d-ae61-82700a57c385",
   "metadata": {},
   "outputs": [
    {
     "name": "stdout",
     "output_type": "stream",
     "text": [
      "5\n"
     ]
    }
   ],
   "source": [
    "string = \"hello world hello world hello world\"\n",
    "print(highest_frequency_word_length(string))"
   ]
  },
  {
   "cell_type": "code",
   "execution_count": null,
   "id": "873b2d42-0aa2-4244-b23d-8282d31d4ce3",
   "metadata": {},
   "outputs": [],
   "source": [
    "#the word \"hello\" has the highest frequency of 3,and its length is 5"
   ]
  },
  {
   "cell_type": "code",
   "execution_count": 6,
   "id": "ed377522-31d9-4d5f-a68c-096c8cc3793d",
   "metadata": {},
   "outputs": [
    {
     "name": "stdout",
     "output_type": "stream",
     "text": [
      "1\n"
     ]
    }
   ],
   "source": [
    "string = \"a a a a a b b b c c c c\"\n",
    "print(highest_frequency_word_length(string))"
   ]
  },
  {
   "cell_type": "code",
   "execution_count": null,
   "id": "acccff32-240b-4399-be0b-55e2f76b14d0",
   "metadata": {},
   "outputs": [],
   "source": [
    "#multiple words have the same hignest frequency of  4('a' and 'b'),but 'a' has the shorter length of 1"
   ]
  }
 ],
 "metadata": {
  "kernelspec": {
   "display_name": "Python 3 (ipykernel)",
   "language": "python",
   "name": "python3"
  },
  "language_info": {
   "codemirror_mode": {
    "name": "ipython",
    "version": 3
   },
   "file_extension": ".py",
   "mimetype": "text/x-python",
   "name": "python",
   "nbconvert_exporter": "python",
   "pygments_lexer": "ipython3",
   "version": "3.10.6"
  }
 },
 "nbformat": 4,
 "nbformat_minor": 5
}
